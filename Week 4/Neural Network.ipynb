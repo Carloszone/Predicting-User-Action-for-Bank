{
 "cells": [
  {
   "cell_type": "code",
   "execution_count": 3,
   "metadata": {},
   "outputs": [],
   "source": [
    "import numpy as np\n",
    "import seaborn as sns"
   ]
  },
  {
   "cell_type": "code",
   "execution_count": 4,
   "metadata": {},
   "outputs": [],
   "source": [
    "def sigmoid(x): \n",
    "    return(1/(1+np.exp(-x)))\n",
    "\n",
    "def deriv_sigmoid(x):\n",
    "    fx = sigmoid(x)\n",
    "    return fx * (1 - fx)"
   ]
  },
  {
   "cell_type": "code",
   "execution_count": 5,
   "metadata": {},
   "outputs": [],
   "source": [
    "class cell:\n",
    "    def __init__(self, weights, bias):\n",
    "        self.weights = weights\n",
    "        self.bias = bias\n",
    "    def feedforward(self, inputs):\n",
    "        total = np.dot(self.weights, inputs) + self.bias\n",
    "        self.total = total\n",
    "        return sigmoid(total)"
   ]
  },
  {
   "cell_type": "code",
   "execution_count": 6,
   "metadata": {},
   "outputs": [],
   "source": [
    "x = np.array([1,2])\n",
    "y = 1"
   ]
  },
  {
   "cell_type": "code",
   "execution_count": 7,
   "metadata": {},
   "outputs": [],
   "source": [
    "def mse_loss(y_true, y_pred):\n",
    "    return ((y_true - y_pred) ** 2).mean()"
   ]
  },
  {
   "cell_type": "code",
   "execution_count": 8,
   "metadata": {},
   "outputs": [],
   "source": [
    "def dloss_y(y,y_pred):\n",
    "    return(-2*(y-y_pred))\n",
    "\n",
    "def d(x,node_result):\n",
    "    return x*deriv_sigmoid(node_result)"
   ]
  },
  {
   "cell_type": "code",
   "execution_count": 49,
   "metadata": {},
   "outputs": [],
   "source": [
    "def train(x, y, epochs, learning_rate):\n",
    "    global weight1, weight2, weight3, b1,b2,b3\n",
    "    weight1 = np.array([.1,.4])\n",
    "    b1 = -.5\n",
    "\n",
    "    weight2 = np.array([-1,.7])\n",
    "    b2 = 1.5\n",
    "\n",
    "    weight3 = np.array([.9,-.5])\n",
    "    b3 = 0\n",
    "    \n",
    "    mse = []\n",
    "    \n",
    "    for epoch in range(epochs):\n",
    "        node1 = cell(weight1, b1)\n",
    "        node2 = cell(weight2, b2)\n",
    "        node3 = cell(weight3, b3)\n",
    "        y_pred = node3.feedforward([node1.feedforward(x), node2.feedforward(x)])\n",
    "        \n",
    "        mse.append(mse_loss(y, y_pred))\n",
    "        \n",
    "        dloss_dy = dloss_y(y,y_pred) # the derivatives between lossfunction and ypred\n",
    "        \n",
    "        dy_dnode1 = d(weight3[0], node3.total) #the derivatives between ypred and node1\n",
    "        dy_dnode2 = d(weight3[1], node3.total) #the derivatives between ypred and node2\n",
    "        \n",
    "        dnode1_dweight10 = d(weight1[0], node1.total) # the derivatives between node1 and the first weight\n",
    "        dnode1_dweight11 = d(weight1[1], node1.total) # the derivatives between node1 and the second weight\n",
    "        dnode1_db = deriv_sigmoid(node1.total) # the derivatives between and the bias\n",
    "        \n",
    "        dnode2_dweight20 = d(weight2[0], node2.total) # the derivatives between node2 and its first weight\n",
    "        dnode2_dweight21 = d(weight2[1], node2.total) # the derivatives between node2 and its second weight\n",
    "        dnode2_db = deriv_sigmoid(node2.total) # the derivatives between node 2 and its bias\n",
    "        \n",
    "        dnode3_dweight30 = d(node1.feedforward(x), node3.total) # the derivatives between node3 and its first weight\n",
    "        dnode3_dweight31 = d(node2.feedforward(x), node3.total) # the derivatives between node3 and its first weight\n",
    "        dnode3_db = deriv_sigmoid(node3.total) # the derivatives between node3 and its first weight\n",
    "        \n",
    "        #### calculate new weights\n",
    "        weight1_new = np.array([dloss_dy*dy_dnode1*dnode1_dweight10, dloss_dy*dy_dnode1*dnode1_dweight11])\n",
    "        weight2_new = np.array([dloss_dy*dy_dnode2*dnode2_dweight20, dloss_dy*dy_dnode2*dnode2_dweight21])\n",
    "        weight3_new = np.array([dloss_dy*dnode3_dweight30, dloss_dy*dnode3_dweight31])\n",
    "        \n",
    "        weight1 -= learning_rate*weight1_new\n",
    "        weight2 -= learning_rate*weight2_new\n",
    "        weight3 -= learning_rate*weight3_new\n",
    "        b1 -= learning_rate*dloss_dy*dy_dnode1* dnode1_db\n",
    "        b2 -= learning_rate*dloss_dy*dy_dnode2* dnode2_db\n",
    "        b3 -= learning_rate*dloss_dy*dnode3_db\n",
    "        \n",
    "        if epoch % 100 == 0:\n",
    "            loss= mse_loss(y, y_pred)\n",
    "            print(\"Epoch %d loss: %.3f\" % (epoch, loss))\n",
    "    return mse"
   ]
  },
  {
   "cell_type": "code",
   "execution_count": null,
   "metadata": {},
   "outputs": [],
   "source": []
  },
  {
   "cell_type": "code",
   "execution_count": 54,
   "metadata": {},
   "outputs": [
    {
     "name": "stdout",
     "output_type": "stream",
     "text": [
      "Epoch 0 loss: 0.225\n",
      "Epoch 100 loss: 0.002\n",
      "Epoch 200 loss: 0.001\n",
      "Epoch 300 loss: 0.001\n",
      "Epoch 400 loss: 0.001\n",
      "Epoch 500 loss: 0.000\n",
      "Epoch 600 loss: 0.000\n",
      "Epoch 700 loss: 0.000\n",
      "Epoch 800 loss: 0.000\n",
      "Epoch 900 loss: 0.000\n"
     ]
    }
   ],
   "source": [
    "mse = train(x, y, epochs=1000, learning_rate= 0.5)"
   ]
  },
  {
   "cell_type": "code",
   "execution_count": 56,
   "metadata": {},
   "outputs": [
    {
     "data": {
      "text/plain": [
       "<AxesSubplot:>"
      ]
     },
     "execution_count": 56,
     "metadata": {},
     "output_type": "execute_result"
    },
    {
     "data": {
      "image/png": "[encoded data removed]",
      "text/plain": [
       "<Figure size 432x288 with 1 Axes>"
      ]
     },
     "metadata": {
      "needs_background": "light"
     },
     "output_type": "display_data"
    }
   ],
   "source": [
    "sns.lineplot(x = range(1000), y = mse)"
   ]
  },
  {
   "cell_type": "code",
   "execution_count": null,
   "metadata": {},
   "outputs": [],
   "source": []
  },
  {
   "cell_type": "code",
   "execution_count": 31,
   "metadata": {},
   "outputs": [],
   "source": [
    "# build another function, use step size =0.01 to find the derivation\n",
    "def train2(x, y, epochs, learning_rate = 0.5, step_size = 0.01):\n",
    "    global weight1, weight2, weight3, b1,b2,b3\n",
    "    weight1 = np.array([.1,.4])\n",
    "    b1 = -.5\n",
    "\n",
    "    weight2 = np.array([-1,.7])\n",
    "    b2 = 1.5\n",
    "\n",
    "    weight3 = np.array([.9,-.5])\n",
    "    b3 = 0\n",
    "    \n",
    "    mse = []\n",
    "    \n",
    "    for epoch in range(epochs):\n",
    "        node1 = cell(weight1, b1)\n",
    "        node2 = cell(weight2, b2)\n",
    "        node3 = cell(weight3, b3)\n",
    "        y_pred = node3.feedforward([node1.feedforward(x), node2.feedforward(x)])\n",
    "        \n",
    "        loss = mse_loss(y, y_pred)\n",
    "        \n",
    "        mse.append(loss)\n",
    "        \n",
    "        dnode1_weight1 = (node3.feedforward([cell(weight1+np.array([step_size,0]), b1).feedforward(x), node2.feedforward(x)]) - loss)/step_size\n",
    "        dnode1_weight2 = (node3.feedforward([cell(weight1+np.array([0,step_size]), b1).feedforward(x), node2.feedforward(x)]) - loss)/step_size\n",
    "        dnode1_b = (node3.feedforward([cell(weight1, b1+step_size).feedforward(x), node2.feedforward(x)]))/step_size\n",
    "        \n",
    "        dnode2_weight1 = (node3.feedforward([node1.feedforward(x), cell(weight2+np.array([step_size,0]), b2).feedforward(x)]) - loss)/step_size\n",
    "        dnode2_weight2 = (node3.feedforward([node1.feedforward(x), cell(weight2+np.array([0,step_size]), b2).feedforward(x)]) - loss)/step_size\n",
    "        dnode2_b = (node3.feedforward([node1.feedforward(x), cell(weight2, b2+step_size).feedforward(x)]))/step_size\n",
    "        \n",
    "        dnode3_weight1 = (cell(weight3+np.array([step_size,0]), b3).feedforward([node1.feedforward(x), node2.feedforward(x)]) - loss)/step_size\n",
    "        dnode3_weight2 = (cell(weight3+np.array([0,step_size]), b3).feedforward([node1.feedforward(x), node2.feedforward(x)]) - loss)/step_size\n",
    "        dnode3_b = (cell(weight3, b3+step_size).feedforward([node1.feedforward(x), node2.feedforward(x)]))/step_size\n",
    "        \n",
    "        weight1 -= learning_rate*np.array([dnode1_weight1,dnode1_weight2])\n",
    "        weight2 -= learning_rate*np.array([dnode2_weight1,dnode2_weight2])\n",
    "        weight3 -= learning_rate*np.array([dnode3_weight1,dnode3_weight2])\n",
    "        b1 -= learning_rate*dnode1_b\n",
    "        b2 -= learning_rate*dnode2_b\n",
    "        b3 -= learning_rate*dnode3_b\n",
    "        \n",
    "        if epoch % 2 == 0:\n",
    "            print(\"Epoch %d loss: %.3f\" % (epoch, loss))\n",
    "    return mse"
   ]
  },
  {
   "cell_type": "code",
   "execution_count": 32,
   "metadata": {},
   "outputs": [
    {
     "name": "stdout",
     "output_type": "stream",
     "text": [
      "Epoch 0 loss: 0.225\n",
      "Epoch 2 loss: 0.000\n",
      "Epoch 4 loss: 0.996\n",
      "Epoch 6 loss: 1.000\n",
      "Epoch 8 loss: 1.000\n",
      "Epoch 10 loss: 0.000\n",
      "Epoch 12 loss: 0.000\n",
      "Epoch 14 loss: 0.999\n",
      "Epoch 16 loss: 1.000\n",
      "Epoch 18 loss: 1.000\n",
      "Epoch 20 loss: 0.000\n",
      "Epoch 22 loss: 0.000\n",
      "Epoch 24 loss: 0.999\n",
      "Epoch 26 loss: 1.000\n",
      "Epoch 28 loss: 1.000\n"
     ]
    }
   ],
   "source": [
    "mse2 = train2(x, y, epochs=30, learning_rate= 0.5, step_size = 0.01)"
   ]
  },
  {
   "cell_type": "code",
   "execution_count": 33,
   "metadata": {},
   "outputs": [
    {
     "data": {
      "text/plain": [
       "<AxesSubplot:>"
      ]
     },
     "execution_count": 33,
     "metadata": {},
     "output_type": "execute_result"
    },
    {
     "data": {
      "image/png": "[encoded data removed]",
      "text/plain": [
       "<Figure size 432x288 with 1 Axes>"
      ]
     },
     "metadata": {
      "needs_background": "light"
     },
     "output_type": "display_data"
    }
   ],
   "source": [
    "sns.lineplot(x = range(30), y = mse2)"
   ]
  },
  {
   "cell_type": "code",
   "execution_count": null,
   "metadata": {},
   "outputs": [],
   "source": []
  }
 ],
 "metadata": {
  "kernelspec": {
   "display_name": "Python 3",
   "language": "python",
   "name": "python3"
  },
  "language_info": {
   "codemirror_mode": {
    "name": "ipython",
    "version": 3
   },
   "file_extension": ".py",
   "mimetype": "text/x-python",
   "name": "python",
   "nbconvert_exporter": "python",
   "pygments_lexer": "ipython3",
   "version": "3.8.5"
  }
 },
 "nbformat": 4,
 "nbformat_minor": 4
}
